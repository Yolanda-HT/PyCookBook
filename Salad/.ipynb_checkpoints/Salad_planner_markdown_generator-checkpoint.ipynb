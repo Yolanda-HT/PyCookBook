{
 "cells": [
  {
   "cell_type": "code",
   "execution_count": 21,
   "id": "e2314287",
   "metadata": {},
   "outputs": [],
   "source": [
    "import csv\n",
    "import pandas as pd\n",
    "import numpy as np\n",
    "from datetime import datetime\n",
    "from re import finditer\n",
    "\n",
    "def camel_case_split(identifier):\n",
    "    matches = finditer('.+?(?:(?<=[a-z])(?=[A-Z])|(?<=[A-Z])(?=[A-Z][a-z])|$)', identifier)\n",
    "    return [m.group(0) for m in matches]"
   ]
  },
  {
   "cell_type": "code",
   "execution_count": 22,
   "id": "4655918b",
   "metadata": {},
   "outputs": [],
   "source": [
    "out_file = \"Salad_Planner.md\"\n",
    "\n",
    "db_file = \"Salad_planner_database.xlsx\"\n",
    "db_df = pd.read_excel(db_file)"
   ]
  },
  {
   "cell_type": "code",
   "execution_count": 34,
   "id": "bcd65bfc",
   "metadata": {},
   "outputs": [],
   "source": [
    "text_link_to_main = \"[Main Page](https://yolanda-ht.github.io/YoloCookBlob/)\"\n",
    "text_title = \"# Salad Planner\"\n",
    "text_update_date = \"> Updated: %s\"%(datetime.today().strftime('%m/%d/%Y'))\n",
    "\n",
    "with open(out_file, \"w\") as fout:\n",
    "    wfout = csv.writer(fout, delimiter=\"\\t\")\n",
    "    wfout.writerow([text_link_to_main])\n",
    "    wfout.writerow([])\n",
    "    wfout.writerow([text_title])\n",
    "    wfout.writerow([text_update_date])\n",
    "    wfout.writerow([])\n",
    "    \n",
    "    # Order categories to use by calorie density\n",
    "    type_list = list(db_df.groupby('Type').mean().sort_values('Calories per gram').index)\n",
    "    \n",
    "    \n",
    "    ###----- Write for each type\n",
    "    type_x = type_list[0]\n",
    "    type_x_name = \" \".join(camel_case_split(type_x))"
   ]
  },
  {
   "cell_type": "code",
   "execution_count": 32,
   "id": "2527c8e7",
   "metadata": {},
   "outputs": [],
   "source": [
    "type_emoji_dict = {'LeafyGreens': \":leafy_green:\",\n",
    "                   'RawUnseasonedVeggies': \":cucumber:\",\n",
    "                   'LightDressingSeasoning': \":salt:\",\n",
    "                   'Fruits':\":blueberries:\",\n",
    "                   'SeasonedCookedVeggies': \":stew:\",\n",
    "                   'HerbFlavor': \":garlic:\",\n",
    "                   'Carb': \":baguette_bread:\",\n",
    " 'ProteinFat',\n",
    " 'HeavyDressingSeasoning': \":butter:\"}"
   ]
  },
  {
   "cell_type": "code",
   "execution_count": 33,
   "id": "5b878a10",
   "metadata": {},
   "outputs": [
    {
     "data": {
      "text/plain": [
       "'Leafy Greens'"
      ]
     },
     "execution_count": 33,
     "metadata": {},
     "output_type": "execute_result"
    }
   ],
   "source": [
    "type_x_name"
   ]
  },
  {
   "cell_type": "code",
   "execution_count": 30,
   "id": "26aecfd1",
   "metadata": {},
   "outputs": [
    {
     "data": {
      "text/plain": [
       "['LeafyGreens',\n",
       " 'RawUnseasonedVeggies',\n",
       " 'LightDressingSeasoning',\n",
       " 'Fruits',\n",
       " 'SeasonedCookedVeggies',\n",
       " 'HerbFlavor',\n",
       " 'Carb',\n",
       " 'ProteinFat',\n",
       " 'HeavyDressingSeasoning']"
      ]
     },
     "execution_count": 30,
     "metadata": {},
     "output_type": "execute_result"
    }
   ],
   "source": []
  },
  {
   "cell_type": "code",
   "execution_count": null,
   "id": "f76ffe45",
   "metadata": {},
   "outputs": [],
   "source": []
  }
 ],
 "metadata": {
  "kernelspec": {
   "display_name": "Python 3 (ipykernel)",
   "language": "python",
   "name": "python3"
  },
  "language_info": {
   "codemirror_mode": {
    "name": "ipython",
    "version": 3
   },
   "file_extension": ".py",
   "mimetype": "text/x-python",
   "name": "python",
   "nbconvert_exporter": "python",
   "pygments_lexer": "ipython3",
   "version": "3.10.6"
  }
 },
 "nbformat": 4,
 "nbformat_minor": 5
}
