{
 "cells": [
  {
   "cell_type": "code",
   "execution_count": 4,
   "id": "8b6be405",
   "metadata": {},
   "outputs": [],
   "source": [
    "from PIL import Image\n",
    "from pillow_heif import register_heif_opener\n",
    "import os\n",
    "from pathlib import Path\n",
    "\n",
    " \n",
    "# Iphone image: 1280 by 960 pixel\n",
    "def rescale_images(directory, out_directory, m_width, m_height):\n",
    "    Path(out_directory).mkdir(exist_ok=True, parents=True)\n",
    "    for img in os.listdir(directory):\n",
    "        if \".DS_Store\" not in img:\n",
    "            if not os.path.isdir(directory+\"/\"+img):\n",
    "                print(img)\n",
    "                im = Image.open(directory+\"/\"+img)\n",
    "                width, height = im.size\n",
    "               \n",
    "                # Calculate resized height and width according to max width / max height\n",
    "                mw_w = m_width\n",
    "                mw_h = m_width/width*height\n",
    "                mh_w = m_height/height*width\n",
    "                mh_h = m_height\n",
    "                \n",
    "                im_resized = im.resize((int(min(mw_w, mh_w)), int(min(mw_h, mh_h))))\n",
    "                newimg = out_directory + \"/\"+ \"resized_\" + img.split(\"/\")[-1].split(\".\")[0] + \".jpg\"\n",
    "                im_resized.save(newimg)"
   ]
  },
  {
   "cell_type": "code",
   "execution_count": 6,
   "id": "092ab8d1",
   "metadata": {},
   "outputs": [
    {
     "ename": "NameError",
     "evalue": "name 'm_width' is not defined",
     "output_type": "error",
     "traceback": [
      "\u001b[0;31m---------------------------------------------------------------------------\u001b[0m",
      "\u001b[0;31mNameError\u001b[0m                                 Traceback (most recent call last)",
      "Cell \u001b[0;32mIn [6], line 9\u001b[0m\n\u001b[1;32m      6\u001b[0m width, height \u001b[38;5;241m=\u001b[39m im\u001b[38;5;241m.\u001b[39msize\n\u001b[1;32m      8\u001b[0m \u001b[38;5;66;03m# Calculate resized height and width according to max width / max height\u001b[39;00m\n\u001b[0;32m----> 9\u001b[0m mw_w \u001b[38;5;241m=\u001b[39m \u001b[43mm_width\u001b[49m\n\u001b[1;32m     10\u001b[0m mw_h \u001b[38;5;241m=\u001b[39m m_width\u001b[38;5;241m/\u001b[39mwidth\u001b[38;5;241m*\u001b[39mheight\n\u001b[1;32m     11\u001b[0m mh_w \u001b[38;5;241m=\u001b[39m m_height\u001b[38;5;241m/\u001b[39mheight\u001b[38;5;241m*\u001b[39mwidth\n",
      "\u001b[0;31mNameError\u001b[0m: name 'm_width' is not defined"
     ]
    }
   ],
   "source": [
    "img = \"OpenMoji_lemon.png\"\n",
    "directory = 'icons'\n",
    "m_width, m_height = 10\n",
    "\n",
    "im = Image.open(directory+\"/\"+img)\n",
    "width, height = im.size\n",
    "               \n",
    "# Calculate resized height and width according to max width / max height\n",
    "mw_w = m_width\n",
    "mw_h = m_width/width*height\n",
    "mh_w = m_height/height*width\n",
    "mh_h = m_height"
   ]
  },
  {
   "cell_type": "code",
   "execution_count": 5,
   "id": "be09f3ce",
   "metadata": {},
   "outputs": [
    {
     "name": "stdout",
     "output_type": "stream",
     "text": [
      "OpenMoji_lemon.png\n"
     ]
    },
    {
     "ename": "OSError",
     "evalue": "cannot write mode P as JPEG",
     "output_type": "error",
     "traceback": [
      "\u001b[0;31m---------------------------------------------------------------------------\u001b[0m",
      "\u001b[0;31mKeyError\u001b[0m                                  Traceback (most recent call last)",
      "File \u001b[0;32m/Applications/miniconda3/envs/netSci/lib/python3.10/site-packages/PIL/JpegImagePlugin.py:630\u001b[0m, in \u001b[0;36m_save\u001b[0;34m(im, fp, filename)\u001b[0m\n\u001b[1;32m    629\u001b[0m \u001b[38;5;28;01mtry\u001b[39;00m:\n\u001b[0;32m--> 630\u001b[0m     rawmode \u001b[38;5;241m=\u001b[39m \u001b[43mRAWMODE\u001b[49m\u001b[43m[\u001b[49m\u001b[43mim\u001b[49m\u001b[38;5;241;43m.\u001b[39;49m\u001b[43mmode\u001b[49m\u001b[43m]\u001b[49m\n\u001b[1;32m    631\u001b[0m \u001b[38;5;28;01mexcept\u001b[39;00m \u001b[38;5;167;01mKeyError\u001b[39;00m \u001b[38;5;28;01mas\u001b[39;00m e:\n",
      "\u001b[0;31mKeyError\u001b[0m: 'P'",
      "\nThe above exception was the direct cause of the following exception:\n",
      "\u001b[0;31mOSError\u001b[0m                                   Traceback (most recent call last)",
      "Cell \u001b[0;32mIn [5], line 1\u001b[0m\n\u001b[0;32m----> 1\u001b[0m \u001b[43mrescale_images\u001b[49m\u001b[43m(\u001b[49m\u001b[38;5;124;43m\"\u001b[39;49m\u001b[38;5;124;43micons\u001b[39;49m\u001b[38;5;124;43m\"\u001b[39;49m\u001b[43m,\u001b[49m\u001b[43m \u001b[49m\u001b[38;5;124;43m\"\u001b[39;49m\u001b[38;5;124;43micons_small\u001b[39;49m\u001b[38;5;124;43m\"\u001b[39;49m\u001b[43m,\u001b[49m\u001b[43m \u001b[49m\u001b[38;5;241;43m100\u001b[39;49m\u001b[43m,\u001b[49m\u001b[38;5;241;43m100\u001b[39;49m\u001b[43m)\u001b[49m\n",
      "Cell \u001b[0;32mIn [4], line 25\u001b[0m, in \u001b[0;36mrescale_images\u001b[0;34m(directory, out_directory, m_width, m_height)\u001b[0m\n\u001b[1;32m     23\u001b[0m im_resized \u001b[38;5;241m=\u001b[39m im\u001b[38;5;241m.\u001b[39mresize((\u001b[38;5;28mint\u001b[39m(\u001b[38;5;28mmin\u001b[39m(mw_w, mh_w)), \u001b[38;5;28mint\u001b[39m(\u001b[38;5;28mmin\u001b[39m(mw_h, mh_h))))\n\u001b[1;32m     24\u001b[0m newimg \u001b[38;5;241m=\u001b[39m out_directory \u001b[38;5;241m+\u001b[39m \u001b[38;5;124m\"\u001b[39m\u001b[38;5;124m/\u001b[39m\u001b[38;5;124m\"\u001b[39m\u001b[38;5;241m+\u001b[39m \u001b[38;5;124m\"\u001b[39m\u001b[38;5;124mresized_\u001b[39m\u001b[38;5;124m\"\u001b[39m \u001b[38;5;241m+\u001b[39m img\u001b[38;5;241m.\u001b[39msplit(\u001b[38;5;124m\"\u001b[39m\u001b[38;5;124m/\u001b[39m\u001b[38;5;124m\"\u001b[39m)[\u001b[38;5;241m-\u001b[39m\u001b[38;5;241m1\u001b[39m]\u001b[38;5;241m.\u001b[39msplit(\u001b[38;5;124m\"\u001b[39m\u001b[38;5;124m.\u001b[39m\u001b[38;5;124m\"\u001b[39m)[\u001b[38;5;241m0\u001b[39m] \u001b[38;5;241m+\u001b[39m \u001b[38;5;124m\"\u001b[39m\u001b[38;5;124m.jpg\u001b[39m\u001b[38;5;124m\"\u001b[39m\n\u001b[0;32m---> 25\u001b[0m \u001b[43mim_resized\u001b[49m\u001b[38;5;241;43m.\u001b[39;49m\u001b[43msave\u001b[49m\u001b[43m(\u001b[49m\u001b[43mnewimg\u001b[49m\u001b[43m)\u001b[49m\n",
      "File \u001b[0;32m/Applications/miniconda3/envs/netSci/lib/python3.10/site-packages/PIL/Image.py:2320\u001b[0m, in \u001b[0;36mImage.save\u001b[0;34m(self, fp, format, **params)\u001b[0m\n\u001b[1;32m   2317\u001b[0m         fp \u001b[38;5;241m=\u001b[39m builtins\u001b[38;5;241m.\u001b[39mopen(filename, \u001b[38;5;124m\"\u001b[39m\u001b[38;5;124mw+b\u001b[39m\u001b[38;5;124m\"\u001b[39m)\n\u001b[1;32m   2319\u001b[0m \u001b[38;5;28;01mtry\u001b[39;00m:\n\u001b[0;32m-> 2320\u001b[0m     \u001b[43msave_handler\u001b[49m\u001b[43m(\u001b[49m\u001b[38;5;28;43mself\u001b[39;49m\u001b[43m,\u001b[49m\u001b[43m \u001b[49m\u001b[43mfp\u001b[49m\u001b[43m,\u001b[49m\u001b[43m \u001b[49m\u001b[43mfilename\u001b[49m\u001b[43m)\u001b[49m\n\u001b[1;32m   2321\u001b[0m \u001b[38;5;28;01mexcept\u001b[39;00m \u001b[38;5;167;01mException\u001b[39;00m:\n\u001b[1;32m   2322\u001b[0m     \u001b[38;5;28;01mif\u001b[39;00m open_fp:\n",
      "File \u001b[0;32m/Applications/miniconda3/envs/netSci/lib/python3.10/site-packages/PIL/JpegImagePlugin.py:632\u001b[0m, in \u001b[0;36m_save\u001b[0;34m(im, fp, filename)\u001b[0m\n\u001b[1;32m    630\u001b[0m     rawmode \u001b[38;5;241m=\u001b[39m RAWMODE[im\u001b[38;5;241m.\u001b[39mmode]\n\u001b[1;32m    631\u001b[0m \u001b[38;5;28;01mexcept\u001b[39;00m \u001b[38;5;167;01mKeyError\u001b[39;00m \u001b[38;5;28;01mas\u001b[39;00m e:\n\u001b[0;32m--> 632\u001b[0m     \u001b[38;5;28;01mraise\u001b[39;00m \u001b[38;5;167;01mOSError\u001b[39;00m(\u001b[38;5;124mf\u001b[39m\u001b[38;5;124m\"\u001b[39m\u001b[38;5;124mcannot write mode \u001b[39m\u001b[38;5;132;01m{\u001b[39;00mim\u001b[38;5;241m.\u001b[39mmode\u001b[38;5;132;01m}\u001b[39;00m\u001b[38;5;124m as JPEG\u001b[39m\u001b[38;5;124m\"\u001b[39m) \u001b[38;5;28;01mfrom\u001b[39;00m \u001b[38;5;21;01me\u001b[39;00m\n\u001b[1;32m    634\u001b[0m info \u001b[38;5;241m=\u001b[39m im\u001b[38;5;241m.\u001b[39mencoderinfo\n\u001b[1;32m    636\u001b[0m dpi \u001b[38;5;241m=\u001b[39m [\u001b[38;5;28mround\u001b[39m(x) \u001b[38;5;28;01mfor\u001b[39;00m x \u001b[38;5;129;01min\u001b[39;00m info\u001b[38;5;241m.\u001b[39mget(\u001b[38;5;124m\"\u001b[39m\u001b[38;5;124mdpi\u001b[39m\u001b[38;5;124m\"\u001b[39m, (\u001b[38;5;241m0\u001b[39m, \u001b[38;5;241m0\u001b[39m))]\n",
      "\u001b[0;31mOSError\u001b[0m: cannot write mode P as JPEG"
     ]
    }
   ],
   "source": [
    "rescale_images(\"icons\", \"icons_small\", 100,100)"
   ]
  },
  {
   "cell_type": "code",
   "execution_count": null,
   "id": "b85881e0",
   "metadata": {},
   "outputs": [],
   "source": []
  }
 ],
 "metadata": {
  "kernelspec": {
   "display_name": "Python 3 (ipykernel)",
   "language": "python",
   "name": "python3"
  },
  "language_info": {
   "codemirror_mode": {
    "name": "ipython",
    "version": 3
   },
   "file_extension": ".py",
   "mimetype": "text/x-python",
   "name": "python",
   "nbconvert_exporter": "python",
   "pygments_lexer": "ipython3",
   "version": "3.10.6"
  }
 },
 "nbformat": 4,
 "nbformat_minor": 5
}
