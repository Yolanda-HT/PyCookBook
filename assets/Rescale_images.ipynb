{
 "cells": [
  {
   "cell_type": "code",
   "execution_count": 1,
   "id": "ddd2b186",
   "metadata": {},
   "outputs": [],
   "source": [
    "from PIL import Image\n",
    "from pillow_heif import register_heif_opener\n",
    "import os\n",
    "from pathlib import Path\n",
    "\n",
    " \n",
    "# Iphone image: 1280 by 960 pixel\n",
    "def rescale_images(directory, out_directory, m_width, m_height):\n",
    "    Path(out_directory).mkdir(exist_ok=True, parents=True)\n",
    "    for img in os.listdir(directory):\n",
    "        if \".DS_Store\" not in img:\n",
    "            if not os.path.isdir(directory+\"/\"+img):\n",
    "                print(img)\n",
    "                im = Image.open(directory+\"/\"+img)\n",
    "                width, height = im.size\n",
    "               \n",
    "                # Calculate resized height and width according to max width / max height\n",
    "                mw_w = m_width\n",
    "                mw_h = m_width/width*height\n",
    "                mh_w = m_height/height*width\n",
    "                mh_h = m_height\n",
    "                \n",
    "                im_resized = im.resize((int(min(mw_w, mh_w)), int(min(mw_h, mh_h))))\n",
    "                newimg = out_directory + \"/\"+ \"resized_\" + img.split(\"/\")[-1].split(\".\")[0] + \".png\"\n",
    "                im_resized.save(newimg)"
   ]
  },
  {
   "cell_type": "code",
   "execution_count": 2,
   "id": "63f98805",
   "metadata": {},
   "outputs": [],
   "source": [
    "img = \"OpenMoji_lemon.png\"\n",
    "directory = 'icons'\n",
    "out_directory = \"icons_small\"\n",
    "m_width, m_height = 100, 100\n",
    "\n",
    "im = Image.open(directory+\"/\"+img)\n",
    "width, height = im.size\n",
    "               \n",
    "# Calculate resized height and width according to max width / max height\n",
    "mw_w = m_width\n",
    "mw_h = m_width/width*height\n",
    "mh_w = m_height/height*width\n",
    "mh_h = m_height\n",
    "\n",
    "im_resized = im.resize((int(min(mw_w, mh_w)), int(min(mw_h, mh_h))))\n",
    "\n",
    "newimg = out_directory + \"/\"+ \"resized_\" + img.split(\"/\")[-1].split(\".\")[0] + \".png\"\n",
    "im_resized.save(newimg)"
   ]
  },
  {
   "cell_type": "code",
   "execution_count": 3,
   "id": "7a574a7e",
   "metadata": {},
   "outputs": [
    {
     "name": "stdout",
     "output_type": "stream",
     "text": [
      "OpenMoji_lemon.png\n",
      "OpenMoji_cucumber.png\n",
      "OpenMoji_herb.png\n",
      "OpenMoji_boule_bread.png\n",
      "OpenMoji_blueberries.png\n",
      "OpenMoji_mango.png\n",
      "OpenMoji_poultry_leg.png\n",
      "OpenMoji_salt.png\n",
      "OpenMoji_jar_with_orange_content.png\n",
      "OpenMoji_leafy_green.png\n",
      "OpenMoji_roasted_sweet_potato.png\n"
     ]
    }
   ],
   "source": [
    "rescale_images(\"icons\", \"icons_small\", 25,25)"
   ]
  },
  {
   "cell_type": "code",
   "execution_count": null,
   "id": "fe388856",
   "metadata": {},
   "outputs": [],
   "source": []
  }
 ],
 "metadata": {
  "kernelspec": {
   "display_name": "Python 3 (ipykernel)",
   "language": "python",
   "name": "python3"
  },
  "language_info": {
   "codemirror_mode": {
    "name": "ipython",
    "version": 3
   },
   "file_extension": ".py",
   "mimetype": "text/x-python",
   "name": "python",
   "nbconvert_exporter": "python",
   "pygments_lexer": "ipython3",
   "version": "3.10.6"
  }
 },
 "nbformat": 4,
 "nbformat_minor": 5
}
